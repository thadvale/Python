{
  "nbformat": 4,
  "nbformat_minor": 0,
  "metadata": {
    "colab": {
      "name": "Python Project.ipynb",
      "provenance": [],
      "authorship_tag": "ABX9TyPdoFz85XfM+V2+KqZORclN",
      "include_colab_link": true
    },
    "kernelspec": {
      "name": "python3",
      "display_name": "Python 3"
    },
    "language_info": {
      "name": "python"
    }
  },
  "cells": [
    {
      "cell_type": "markdown",
      "metadata": {
        "id": "view-in-github",
        "colab_type": "text"
      },
      "source": [
        "<a href=\"https://colab.research.google.com/github/thadvale/Python/blob/main/Python_Project.ipynb\" target=\"_parent\"><img src=\"https://colab.research.google.com/assets/colab-badge.svg\" alt=\"Open In Colab\"/></a>"
      ]
    },
    {
      "cell_type": "code",
      "metadata": {
        "id": "z83qy5pTEEpp",
        "colab": {
          "base_uri": "https://localhost:8080/"
        },
        "outputId": "9f8220bd-2551-4d56-9bb1-57ff0a151be4"
      },
      "source": [
        "coffee_cup='coffee'\n",
        "print(coffee_cup)\n",
        "coffee='coffee beans'\n",
        "print(coffee)\n",
        "\n",
        "first_name='thad'\n",
        "last_name='vale'\n",
        "full_name=f\"{first_name}{last_name}\"\n",
        "print(full_name)"
      ],
      "execution_count": null,
      "outputs": [
        {
          "output_type": "stream",
          "text": [
            "coffee\n",
            "coffee beans\n",
            "thadvale\n"
          ],
          "name": "stdout"
        }
      ]
    },
    {
      "cell_type": "code",
      "metadata": {
        "id": "UppfaH2hv3si"
      },
      "source": [
        "x = 8\n",
        "y = 8\n",
        "z = 8\n",
        "print(5+3)\n",
        "print(4+4)\n",
        "print(2*4)\n",
        "print(16/2)\n",
        "#hello to everyone, this is a python comment\n",
        "\n",
        "\n",
        "bicycles = ['trek', 'cannondale', 'redline', 'specialized', print(bicycles[0].title())]\n"
      ],
      "execution_count": null,
      "outputs": []
    },
    {
      "cell_type": "code",
      "metadata": {
        "colab": {
          "base_uri": "https://localhost:8080/"
        },
        "id": "lwD6lhS_zMKJ",
        "outputId": "ad0b622b-b87d-4c10-a862-17f1070c60c2"
      },
      "source": [
        "\n",
        "bicycles = ['trek', 'cannondale', 'redline', 'specialized']\n",
        "\n",
        "message = f\"My first bicycle was a {bicycles[0].title()}.\"\n",
        "\n",
        "print(message)"
      ],
      "execution_count": null,
      "outputs": [
        {
          "output_type": "stream",
          "text": [
            "My first bicycle was a Trek.\n"
          ],
          "name": "stdout"
        }
      ]
    },
    {
      "cell_type": "code",
      "metadata": {
        "colab": {
          "base_uri": "https://localhost:8080/"
        },
        "id": "G0xXEQaW4n7s",
        "outputId": "ac3e6c87-4499-446b-a4c0-9bc0e91830cf"
      },
      "source": [
        "motorcycles = ['honda', 'yamaha', 'suzuki']\n",
        "print(motorcycles)\n",
        "\n",
        "motorcycles[0] = 'ducati'\n",
        "print(motorcycles)\n",
        "\n",
        "motorcycles.append('ducati')\n",
        "print(motorcycles)\n",
        "\n",
        "\n",
        "motorcycles = ['honda', 'yamaha', 'suzuki']\n",
        "print(motorcycles)\n",
        "\n",
        "\n",
        "popped_motorcycle = motorcycles.pop()\n",
        "print(motorcycles)\n",
        "print(popped_motorcycle)\n",
        "\n",
        "last_owned = motorcycles.pop()\n",
        "print(f\"The last motorcycle I owned was a {last_owned.title()}.\")\n",
        "\n",
        "first_owned = motorcycles.pop(0)\n",
        "print(f\"The first motorcycle I owned was a {first_owned.title()}.\")\n",
        "\n",
        "\n"
      ],
      "execution_count": null,
      "outputs": [
        {
          "output_type": "stream",
          "text": [
            "['honda', 'yamaha', 'suzuki']\n",
            "['ducati', 'yamaha', 'suzuki']\n",
            "['ducati', 'yamaha', 'suzuki', 'ducati']\n",
            "['honda', 'yamaha', 'suzuki']\n",
            "['honda', 'yamaha']\n",
            "suzuki\n",
            "The last motorcycle I owned was a Yamaha.\n",
            "The first motorcycle I owned was a Honda.\n"
          ],
          "name": "stdout"
        }
      ]
    },
    {
      "cell_type": "code",
      "metadata": {
        "colab": {
          "base_uri": "https://localhost:8080/"
        },
        "id": "iOYo5oue7tV7",
        "outputId": "d9ab01e2-f087-4072-c203-016e7e669fd2"
      },
      "source": [
        "#Printed full list of motorcycles\n",
        "motorcycles = ['honda', 'yamaha', 'suzuki', 'ducati']\n",
        "print(motorcycles)\n",
        "\n",
        "#Ducati removed from list of motorcycles\n",
        "motorcycles.remove('ducati')\n",
        "print(motorcycles)\n",
        "\n",
        "#Removing Ducati from motorcycle list while printing a reason for doing so.\n",
        "motorcycles = ['honda', 'yamaha', 'suzuki', 'ducati']\n",
        "print(motorcycles)\n",
        "too_expensive = 'ducati'\n",
        "motorcycles.remove(too_expensive)\n",
        "print(motorcycles)\n",
        "print(f\"\\nA {too_expensive.title()} is too expensive for me.\")"
      ],
      "execution_count": null,
      "outputs": [
        {
          "output_type": "stream",
          "text": [
            "['honda', 'yamaha', 'suzuki', 'ducati']\n",
            "['honda', 'yamaha', 'suzuki']\n",
            "['honda', 'yamaha', 'suzuki', 'ducati']\n",
            "['honda', 'yamaha', 'suzuki']\n",
            "\n",
            "A Ducati is too expensive for me.\n"
          ],
          "name": "stdout"
        }
      ]
    },
    {
      "cell_type": "code",
      "metadata": {
        "colab": {
          "base_uri": "https://localhost:8080/"
        },
        "id": "Gn3qQMqk8-t7",
        "outputId": "7e833449-d7bd-4006-ab0e-a3692a9021d0"
      },
      "source": [
        "#Try it Yourself Coding Exercise Chapter 3\n",
        "\n",
        "#Dinner Invintation List.\n",
        "guests = ['Jordan Peterson', 'Elon Musk', 'Burrhus Frederic Skinner', 'Sigmund Freud', 'Carl Jung']\n",
        "print(guests)\n",
        "\n",
        "#Dinner Invintation List modified, Guest 'Sigmund Freud' was removed.\n",
        "del guests[2]\n",
        "print(guests)\n",
        "cant_make_it = 'Sigmund Freud'\n",
        "guests.remove(cant_make_it)\n",
        "print(guests)\n",
        "print(f\"\\n {cant_make_it.title()} can't make it to the dinner.\")\n",
        "\n",
        "#Dinner Invintation List Modified, Joe Rogan and Burrhus Frederic Skinner were added to the list. \n",
        "guests.append('Joe Rogan')\n",
        "guests.insert(2, 'Burrhus Frederic Skinner')\n",
        "print(guests)\n",
        "print(f\"\\n Burrhus Frederic Skinner and Joe Rogan was added to the guestlist, as a bigger dining table was procured for the dinner.\")\n",
        "\n",
        "#Joe Rogan (4) , Carl Jung (3), and Burrhus Frederic Skinner (2), was removed from Dinner Invitation List using 'Pop' Method. \n",
        "print(guests)\n",
        "popped_guests = guests.pop(4)\n",
        "popped_guests = guests.pop(3)\n",
        "popped_guests = guests.pop(2)\n",
        "guest_popped4 = 'Joe Rogan'\n",
        "guest_popped3 = 'Carl Jung'\n",
        "guest_popped2 = 'Burrhus Frederic Skinner'\n",
        "print(f\"\\n Sorry {guest_popped4.title()} we sincerely apologize, due to our dining table not arriving on time, we cannot accompany more guests at this time.\")\n",
        "print(f\"\\n Sorry {guest_popped3.title()} we sincerely apologize, due to our dining table not arriving on time, we cannot accompany more guests at this time.\")\n",
        "print(f\"\\n Sorry {guest_popped2.title()} we sincerely apologize, due to our dining table not arriving on time, we cannot accompany more guests at this time.\")\n",
        "#Remaining Dinner Invintation List guests\n",
        "print(guests)\n",
        "print(f\"\\n 3 Guests were popped from the Dinner Invintation List, due to our dining table not arriving on time. However Jordan Peterson and Elon Musk are still invited for dinner.\")\n",
        "#Remove all remaining Dinner guests.\n",
        "print(guests)\n",
        "del guests[0]\n",
        "print(guests)\n",
        "del guests[0]\n",
        "print(guests)\n",
        "\n",
        "\n"
      ],
      "execution_count": null,
      "outputs": [
        {
          "output_type": "stream",
          "text": [
            "['Jordan Peterson', 'Elon Musk', 'Burrhus Frederic Skinner', 'Sigmund Freud', 'Carl Jung']\n",
            "['Jordan Peterson', 'Elon Musk', 'Sigmund Freud', 'Carl Jung']\n",
            "['Jordan Peterson', 'Elon Musk', 'Carl Jung']\n",
            "\n",
            " Sigmund Freud can't make it to the dinner.\n",
            "['Jordan Peterson', 'Elon Musk', 'Burrhus Frederic Skinner', 'Carl Jung', 'Joe Rogan']\n",
            "\n",
            " Burrhus Frederic Skinner and Joe Rogan was added to the guestlist, as a bigger dining table was procured for the dinner.\n",
            "['Jordan Peterson', 'Elon Musk', 'Burrhus Frederic Skinner', 'Carl Jung', 'Joe Rogan']\n",
            "\n",
            " Sorry Joe Rogan we sincerely apologize, due to our dining table not arriving on time, we cannot accompany more guests at this time.\n",
            "\n",
            " Sorry Carl Jung we sincerely apologize, due to our dining table not arriving on time, we cannot accompany more guests at this time.\n",
            "\n",
            " Sorry Burrhus Frederic Skinner we sincerely apologize, due to our dining table not arriving on time, we cannot accompany more guests at this time.\n",
            "['Jordan Peterson', 'Elon Musk']\n",
            "\n",
            " 3 Guests were popped from the Dinner Invintation List, due to our dining table not arriving on time. However Jordan Peterson and Elon Musk are still invited for dinner.\n",
            "['Jordan Peterson', 'Elon Musk']\n",
            "['Elon Musk']\n",
            "[]\n"
          ],
          "name": "stdout"
        }
      ]
    },
    {
      "cell_type": "code",
      "metadata": {
        "colab": {
          "base_uri": "https://localhost:8080/"
        },
        "id": "tZxEKggDP0zm",
        "outputId": "f2b56952-bac2-4377-914c-360d77f08e0b"
      },
      "source": [
        "#Organizing Lists\n",
        "\n",
        "#Alphabetical Order\n",
        "cars = ['bmw', 'audi', 'toyota', 'subaru']\n",
        "cars.sort()\n",
        "print(cars)\n",
        "\n",
        "#Reverse Alphabetical Order\n",
        "cars = ['bmw', 'audi', 'toyota', 'subaru']\n",
        "cars.sort(reverse=True)\n",
        "print(cars)\n",
        "\n",
        "cars = ['bmw', 'audi', 'toyota', 'subaru']\n",
        "\n",
        "#Sorting a List Temporarily with sorted() Function\n",
        "newline = '\\n'\n",
        "string = f\"str1{newline}str2\"\n",
        "\n",
        "print(\"Here is the original list:\")\n",
        "print(cars)\n",
        "\n",
        "print(\"\\nHere is the sorted list:\")\n",
        "print(sorted(cars))\n",
        "\n",
        "print(\"\\nHere is the original list again:\")\n",
        "print(cars)\n",
        "\n",
        "#Printing a List in Reverse Order\n",
        "cars = ['bmw', 'audi', 'toyota', 'subaru']\n",
        "print(cars)\n",
        "\n",
        "cars.reverse()\n",
        "print(cars)\n",
        "\n",
        "#Finding the Length of a List"
      ],
      "execution_count": null,
      "outputs": [
        {
          "output_type": "stream",
          "text": [
            "['audi', 'bmw', 'subaru', 'toyota']\n",
            "['toyota', 'subaru', 'bmw', 'audi']\n",
            "Here is the original list:\n",
            "['bmw', 'audi', 'toyota', 'subaru']\n",
            "\n",
            "Here is the sorted list:\n",
            "['audi', 'bmw', 'subaru', 'toyota']\n",
            "\n",
            "Here is the original list again:\n",
            "['bmw', 'audi', 'toyota', 'subaru']\n",
            "['bmw', 'audi', 'toyota', 'subaru']\n",
            "['subaru', 'toyota', 'audi', 'bmw']\n"
          ],
          "name": "stdout"
        }
      ]
    },
    {
      "cell_type": "code",
      "metadata": {
        "colab": {
          "base_uri": "https://localhost:8080/"
        },
        "id": "Et_FTG1Cje5t",
        "outputId": "32d28881-6e6b-47a9-ae6f-d7f9180b3e61"
      },
      "source": [
        "#Chapter 4 Working with Lists & Loops\n",
        "\n",
        "magicians = ['alice', 'david', 'carolina']\n",
        "for magician in magicians:\n",
        "  print(magician)\n",
        "\n",
        "magicians = ['alice', 'david', 'carolina']\n",
        "for magician in magicians:\n",
        "  print(f\"{magician.title()}, that was a great trick!\")\n",
        "  print(f\" I can't wait to see your next trick, {magician.title()}.\\n\") \n",
        "  print(\"Thank you, everyone. That was a great magic show!\")\n"
      ],
      "execution_count": null,
      "outputs": [
        {
          "output_type": "stream",
          "text": [
            "alice\n",
            "david\n",
            "carolina\n",
            "Alice, that was a great trick!\n",
            " I can't wait to see your next trick, Alice.\n",
            "\n",
            "Thank you, everyone. That was a great magic show!\n",
            "David, that was a great trick!\n",
            " I can't wait to see your next trick, David.\n",
            "\n",
            "Thank you, everyone. That was a great magic show!\n",
            "Carolina, that was a great trick!\n",
            " I can't wait to see your next trick, Carolina.\n",
            "\n",
            "Thank you, everyone. That was a great magic show!\n"
          ],
          "name": "stdout"
        }
      ]
    },
    {
      "cell_type": "code",
      "metadata": {
        "id": "HE6gCwV5nDca"
      },
      "source": [
        "#Making Numerical Lists\n",
        "for value in range(1, 5):\n",
        "  print(value)\n",
        "#Convert results of range value to list\n",
        "  numbers = list(range(1,6))\n",
        "  print(numbers)\n",
        "#Create a list of even numbers from range 0-11 (2, 4, 6, 8, 10)\n",
        "  even_numbers = list(range(2, 11, 2))\n",
        "  print(even_numbers)\n",
        "  #List of square numbers from each integer\n",
        "  squares = []\n",
        "  for value in range(1, 11):\n",
        "    square = value ** 2\n",
        "    squares.append(square)\n",
        "\n",
        "    print(squares)\n",
        "    #Written more concisely\n",
        "    squares = []\n",
        "    for value in range(1,11):\n",
        "      squares.append(value**2)\n",
        "\n",
        "print(squares)\n",
        "#Statistics with a List of Numbers\n",
        "digits = [1, 2, 3, 4, 5, 6, 7, 8, 9, 0]\n",
        "min(digits)\n",
        "0\n",
        "max(digits)\n",
        "9\n",
        "sum(digits)\n",
        "45\n",
        "#Comprehension List\n",
        "squares = [value**2 for value in range(1, 11)]\n",
        "print(squares)\n"
      ],
      "execution_count": null,
      "outputs": []
    },
    {
      "cell_type": "code",
      "metadata": {
        "colab": {
          "base_uri": "https://localhost:8080/"
        },
        "id": "7RMpvdf9qUDn",
        "outputId": "9447dfca-3072-4182-c37b-b15f34af801f"
      },
      "source": [
        "#Make a list of numbers from 1 - 1,000,000 then use min(), max(), sum() functions \n",
        "digits = [1, 10000000]\n",
        "print([min(digits)], [max(digits)], [sum(digits)])\n",
        "\n",
        "\n"
      ],
      "execution_count": null,
      "outputs": [
        {
          "output_type": "stream",
          "text": [
            "[1] [10000000] [10000001]\n"
          ],
          "name": "stdout"
        }
      ]
    },
    {
      "cell_type": "code",
      "metadata": {
        "id": "Bywta-AxtuGO"
      },
      "source": [
        "#Create numerical list of odd numbers within specified range. \n",
        "for value in range(1, 21):\n",
        "  print(value)\n",
        "  \n",
        "  odd_numbers = list(range(1, 21, 2))\n",
        "  print(odd_numbers)\n",
        "\n",
        "\n"
      ],
      "execution_count": null,
      "outputs": []
    },
    {
      "cell_type": "code",
      "metadata": {
        "id": "51a45aIgv12R"
      },
      "source": [
        "#Create numerical list for multiples of 3 within specified range. \n",
        "for value in range(3, 31):\n",
        "  print(value)\n",
        "\n",
        "multiple_numbers = list(range(3, 31, 3))\n",
        "print(multiple_numbers)\n"
      ],
      "execution_count": null,
      "outputs": []
    },
    {
      "cell_type": "code",
      "metadata": {
        "id": "5R52rFNBwPRN"
      },
      "source": [
        "#Create numerical list of cubed numbers within specified range. \n",
        "for value in range(1, 11):\n",
        "  print(value)\n",
        "\n",
        "cubed_numbers = [value**2 for value in range(1,11)]\n",
        "print(cubed_numbers)"
      ],
      "execution_count": null,
      "outputs": []
    },
    {
      "cell_type": "code",
      "metadata": {
        "colab": {
          "base_uri": "https://localhost:8080/"
        },
        "id": "1DbrrDYi2gPY",
        "outputId": "e91fd726-fbd8-4f78-932b-c74bbb905efb"
      },
      "source": [
        "#Working with Part of a List, Slicing a List\n",
        "\n",
        "players = ['charles', 'martina', 'michael', 'florence', 'eli']\n",
        "print(players[0:3])\n",
        "\n",
        "\n"
      ],
      "execution_count": null,
      "outputs": [
        {
          "output_type": "stream",
          "text": [
            "['charles', 'martina', 'michael']\n"
          ],
          "name": "stdout"
        }
      ]
    },
    {
      "cell_type": "code",
      "metadata": {
        "colab": {
          "base_uri": "https://localhost:8080/"
        },
        "id": "JXzm3SHZ3kRz",
        "outputId": "181c9743-dea2-48a5-f3b0-040348059ada"
      },
      "source": [
        "#Looping through a Slice\n",
        "players = ['charles', 'martina', 'michael', 'florence', 'eli']\n",
        "\n",
        "print(\"Here are the first three players on my team:\")\n",
        "for player in players[:3]:\n",
        "  print(player.title())"
      ],
      "execution_count": null,
      "outputs": [
        {
          "output_type": "stream",
          "text": [
            "Here are the first three players on my team:\n",
            "Charles\n",
            "Martina\n",
            "Michael\n"
          ],
          "name": "stdout"
        }
      ]
    },
    {
      "cell_type": "code",
      "metadata": {
        "colab": {
          "base_uri": "https://localhost:8080/"
        },
        "id": "1_2bBuLt4Tni",
        "outputId": "621d756c-0ca8-4d27-b48d-cc164250c67f"
      },
      "source": [
        "#Copying a List\n",
        "\n",
        "my_foods = ['pizza', 'falafel', 'carrot cake']\n",
        "friend_foods = my_foods[:]\n",
        "\n",
        "my_foods.append('cannoli')\n",
        "friend_foods.append('ice cream')\n",
        "\n",
        "print(\"My favorite foods are\")\n",
        "print(my_foods)\n",
        "\n",
        "print(\"\\nMy friend's favorite foods are:\")\n",
        "print(friend_foods)\n"
      ],
      "execution_count": null,
      "outputs": [
        {
          "output_type": "stream",
          "text": [
            "My favorite foods are\n",
            "['pizza', 'falafel', 'carrot cake', 'cannoli']\n",
            "\n",
            "My friend's favorite foods are:\n",
            "['pizza', 'falafel', 'carrot cake', 'ice cream']\n"
          ],
          "name": "stdout"
        }
      ]
    },
    {
      "cell_type": "code",
      "metadata": {
        "id": "ehEJQZ4i4edF"
      },
      "source": [
        "#Tuples: Values cannot change 'immutable' \n",
        "dimensions = (200, 50)\n",
        "print(dimensions[0])\n",
        "print(dimensions[1])\n",
        "\n",
        "#Looping through all Values in a Tuple\n",
        "dimensions = (200, 50)\n",
        "for dimensions in dimensions:\n",
        "  print(dimensions)\n",
        "\n"
      ],
      "execution_count": null,
      "outputs": []
    },
    {
      "cell_type": "code",
      "metadata": {
        "id": "7K_w-PWbGCWf"
      },
      "source": [
        "#Writing over a Tuple\n",
        "dimensions = (200, 50)\n",
        "print(\"Original dimensions\")\n",
        "for dimension in dimensions:\n",
        "  print(dimensions)\n",
        "\n",
        "  dimensions = (400, 100)\n",
        "  print(\"\\nModified dimensions:\")\n",
        "  for dimension in dimensions:\n",
        "    print(dimensions)\n",
        "    "
      ],
      "execution_count": null,
      "outputs": []
    },
    {
      "cell_type": "code",
      "metadata": {
        "id": "5nv7MwRlCqtc"
      },
      "source": [
        "\"\""
      ],
      "execution_count": null,
      "outputs": []
    },
    {
      "cell_type": "code",
      "metadata": {
        "colab": {
          "base_uri": "https://localhost:8080/",
          "height": 103
        },
        "id": "Sm9WO23FGcwg",
        "outputId": "90b6de0c-c57e-4eab-b482-8a63be023b4a"
      },
      "source": [
        "#Simple Example Test\n",
        "cars = ['audi', 'bmw', 'subaru', 'toyota']\n",
        "\n",
        "for car in cars:\n",
        "  if car == 'bmw':\n",
        "    print(car.upper())\n",
        "  else:\n",
        "    print(car.title())\n",
        "\n",
        "#Conditional Test checking for Equality\n",
        "car = 'bmw'\n",
        "car =='bmw'\n",
        "#true ^\n",
        "car = 'audi'\n",
        "car =='bmw'\n",
        "#false ^\n",
        "car = 'Audi'\n",
        "car == 'audi'\n",
        "#false ^\n",
        "car = 'Audi'\n",
        "car.lower() == 'audi'\n",
        "#true ^\n",
        "car = 'Audi'\n",
        "car.lower() == 'audi'\n",
        "car"
      ],
      "execution_count": null,
      "outputs": [
        {
          "output_type": "stream",
          "text": [
            "Audi\n",
            "BMW\n",
            "Subaru\n",
            "Toyota\n"
          ],
          "name": "stdout"
        },
        {
          "output_type": "execute_result",
          "data": {
            "application/vnd.google.colaboratory.intrinsic+json": {
              "type": "string"
            },
            "text/plain": [
              "'Audi'"
            ]
          },
          "metadata": {
            "tags": []
          },
          "execution_count": 26
        }
      ]
    },
    {
      "cell_type": "code",
      "metadata": {
        "colab": {
          "base_uri": "https://localhost:8080/"
        },
        "id": "oICoRhfMIuQ5",
        "outputId": "41f23b5b-40ad-4e56-be97-dfc1ce4b696a"
      },
      "source": [
        "#Checking for Inequality\n",
        "requested_topping = 'mushrooms'\n",
        "if requested_topping != 'anchovies':\n",
        "  print(\"Hold the anchovies!\")\n",
        "\n",
        "#Numerical Comparison\n",
        "age = 18\n",
        "age == 18\n",
        "#True ^\n",
        "\n",
        "answer = 17\n",
        "if answer !=42:\n",
        "  print(\"That is not the correct answer. Please try again!\")\n",
        "\n",
        "age = 19\n",
        "age < 21\n",
        "#True ^\n",
        "age <= 21\n",
        "age > 21\n",
        "#False ^\n",
        "age > 21\n",
        "#False ^\n",
        "age >= 21\n",
        "#False\n"
      ],
      "execution_count": null,
      "outputs": [
        {
          "output_type": "stream",
          "text": [
            "Hold the anchovies!\n",
            "That is not the correct answer. Please try again!\n"
          ],
          "name": "stdout"
        },
        {
          "output_type": "execute_result",
          "data": {
            "text/plain": [
              "False"
            ]
          },
          "metadata": {
            "tags": []
          },
          "execution_count": 32
        }
      ]
    },
    {
      "cell_type": "code",
      "metadata": {
        "colab": {
          "base_uri": "https://localhost:8080/"
        },
        "id": "YDtnQtkyJdE_",
        "outputId": "0cae8571-c172-48e9-b8ae-9e5b28c9403f"
      },
      "source": [
        "#Checking Multiple Conditions\n",
        "age_0 = 22\n",
        "age_1 = 18\n",
        "age_0 >= 21\n",
        "age_1 >= 21\n",
        "age_1 = 22\n",
        "age_0 >= age_1 >= 21"
      ],
      "execution_count": null,
      "outputs": [
        {
          "output_type": "execute_result",
          "data": {
            "text/plain": [
              "True"
            ]
          },
          "metadata": {
            "tags": []
          },
          "execution_count": 37
        }
      ]
    }
  ]
}